{
 "cells": [
  {
   "cell_type": "code",
   "execution_count": 28,
   "id": "4715ebbb",
   "metadata": {
    "scrolled": true
   },
   "outputs": [
    {
     "name": "stdout",
     "output_type": "stream",
     "text": [
      "input data set\n",
      "    age  gender\n",
      "10   21       0\n",
      "7    33       1\n",
      "5    30       1\n",
      "8    37       1\n",
      "\n",
      "\n",
      "expected results\n",
      "10        Dance\n",
      "7     Classical\n",
      "5          Jazz\n",
      "8     Classical\n",
      "Name: genre, dtype: object\n",
      "\n",
      "\n",
      "\n",
      "model derived results based on the trained data set\n",
      "['Dance' 'Classical' 'Jazz' 'Classical']\n",
      "\n",
      "\n",
      "accuracy score upon observing expected results and ML predicts or derived results\n"
     ]
    },
    {
     "data": {
      "text/plain": [
       "1.0"
      ]
     },
     "execution_count": 28,
     "metadata": {},
     "output_type": "execute_result"
    }
   ],
   "source": [
    "# pandas library is for importing data spliting it , clean and sort out the data for training model in ML\n",
    "import pandas as pd\n",
    "\n",
    "# sklearn is ML learning package for data science it has many algorithms for data analysis \n",
    "# it makes work easier and efficient for analysis and drawing insigits and prediction out of the given data \n",
    "from sklearn.tree import DecisionTreeClassifier\n",
    "from sklearn.model_selection import train_test_split\n",
    "from sklearn.metrics import accuracy_score\n",
    "\n",
    "# loading files using pandas library\n",
    "data = pd.read_csv(\"music.csv\")\n",
    "\n",
    "# we spilt data into input(x) and output(y) data sets\n",
    "x = data.drop(columns=\"genre\")\n",
    "y = data[\"genre\"]\n",
    "\n",
    "# here we separate again for training and testing with the help of the function train_test_split \n",
    "x_train, x_test, y_train, y_test = train_test_split(x, y, test_size = 0.2)\n",
    "\n",
    "# decisiontreeclassifier is a ML algorithm which make all the insigits in our program\n",
    "model = DecisionTreeClassifier()\n",
    "# giving model required data to draw prediction\n",
    "model.fit(x_train, y_train)\n",
    "\n",
    "# drawing predictions using predict class in sklearn.tree package tree(sub package)\n",
    "print(\"input data set\")\n",
    "predictions = model.predict(x_test)\n",
    "print(x_test , end =\"\\n\\n\\n\" )\n",
    "print(\"expected results\")\n",
    "print(y_test, end=\"\\n\\n\\n\\n\")\n",
    "print (\"model derived results based on the trained data set\")\n",
    "print(predictions, end=\"\\n\\n\\n\")\n",
    "\n",
    "# fetching accuracy score based on acquired results by ML model\n",
    "score = accuracy_score(y_test, predictions)\n",
    "print(\"accuracy score upon observing expected results and ML predicts or derived results\")\n",
    "score"
   ]
  },
  {
   "cell_type": "code",
   "execution_count": null,
   "id": "6b1fc87b",
   "metadata": {},
   "outputs": [],
   "source": []
  }
 ],
 "metadata": {
  "kernelspec": {
   "display_name": "Python 3 (ipykernel)",
   "language": "python",
   "name": "python3"
  },
  "language_info": {
   "codemirror_mode": {
    "name": "ipython",
    "version": 3
   },
   "file_extension": ".py",
   "mimetype": "text/x-python",
   "name": "python",
   "nbconvert_exporter": "python",
   "pygments_lexer": "ipython3",
   "version": "3.9.7"
  }
 },
 "nbformat": 4,
 "nbformat_minor": 5
}
